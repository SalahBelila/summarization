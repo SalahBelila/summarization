{
 "cells": [
  {
   "cell_type": "code",
   "execution_count": null,
   "metadata": {},
   "outputs": [],
   "source": [
    "import summarization as sm\n",
    "from models.utils import utils"
   ]
  },
  {
   "cell_type": "code",
   "execution_count": null,
   "metadata": {},
   "outputs": [],
   "source": [
    "dataset = sm.use_dataset(sm.GIGAWORD_DATASET)\n",
    "#select the dataset to be used\n",
    "#availabe datasets: GIGAWORD_DATASET, CNN_DATASET"
   ]
  },
  {
   "cell_type": "code",
   "execution_count": null,
   "metadata": {},
   "outputs": [],
   "source": [
    "VOCAB_SIZE = 50000\n",
    "BATCH_SIZE = 16\n",
    "EMBED_DIM = 200\n",
    "#the value of EMBED DIM can only be one of the following values: 50, 100, 200, 300.\n",
    "HIDDEN_DIM = 128\n",
    "MAX_ENCODER_LEN = 90\n",
    "MAX_DECODER_LEN = 20\n",
    "LOG_EVERY = 600\n",
    "VALIDATION_LOG_EVERY = 10\n",
    "override_old_preprocessing = True\n",
    "use_pretrained_embedding = False"
   ]
  },
  {
   "cell_type": "code",
   "execution_count": null,
   "metadata": {},
   "outputs": [],
   "source": [
    "preprocessing_path = sm.PATH + '\\\\prepared-datasets\\\\' + dataset + '\\\\vocab=' + str(VOCAB_SIZE) + '.pkl'\n",
    "#whenever you change the BATCH_SIZE, VOCAB_SIZE, MAX_ENCODER_LEN or MAX_DECODER_LEN make sure to override preprocessing.\n",
    "if override_old_preprocessing:\n",
    "    p, train_set, test_set, validation_set = sm.preprocess_data(\n",
    "        VOCAB_SIZE,\n",
    "        BATCH_SIZE, \n",
    "        max_input_len=MAX_ENCODER_LEN,\n",
    "        max_target_len=MAX_DECODER_LEN\n",
    "    )\n",
    "    data_dict = {'preprocessor': p, 'train_set': train_set, 'test_set': test_set, 'validation_set': validation_set}\n",
    "    utils.save(data_dict, preprocessing_path)\n",
    "    del(data_dict)\n",
    "    #the dataset is preprocessed and saved to disk you can load it using utils.load(preporcessing_path)."
   ]
  },
  {
   "cell_type": "code",
   "execution_count": null,
   "metadata": {},
   "outputs": [],
   "source": [
    "data = utils.load(preprocessing_path, with_info=False)\n",
    "p = data['preprocessor']\n",
    "train_set = data['train_set']\n",
    "validation_set = data['validation_set']\n",
    "test_set = data['test_set']\n",
    "del(data)"
   ]
  },
  {
   "cell_type": "code",
   "execution_count": null,
   "metadata": {},
   "outputs": [],
   "source": [
    "print(len(train_set))\n",
    "print(len(validation_set))\n",
    "print(len(test_set))"
   ]
  },
  {
   "cell_type": "code",
   "execution_count": null,
   "metadata": {},
   "outputs": [],
   "source": [
    "metrics = sm.instantiate_metrics(p, utils.SEQ2SEQ, enable_visio=True)\n",
    "#this functions allows us to log and visualize our metrics.\n",
    "#if you don't want to visualize the metrics call the function with enable_visio=False."
   ]
  },
  {
   "cell_type": "code",
   "execution_count": null,
   "metadata": {},
   "outputs": [],
   "source": [
    "EOS_TOKEN = p.get_eos_token()[0][0]\n",
    "#that's the end of string token."
   ]
  },
  {
   "cell_type": "code",
   "execution_count": null,
   "metadata": {},
   "outputs": [],
   "source": [
    "embedding_matrix = None\n",
    "if use_pretrained_embedding:\n",
    "    embedding_matrix = sm.create_embedding_matrix(p, VOCAB_SIZE, EMBED_DIM, train_set)\n",
    "    #creates the embedding weights from pretrained GloVe embedding."
   ]
  },
  {
   "cell_type": "code",
   "execution_count": null,
   "metadata": {},
   "outputs": [],
   "source": [
    "model, attention, optimizer, loss_function = sm.instantiate_model(\n",
    "utils.SEQ2SEQ, #the type of the model.\n",
    "VOCAB_SIZE, \n",
    "EMBED_DIM, \n",
    "HIDDEN_DIM,\n",
    "0.001, #the learning rate.\n",
    "True, #if true a bidirectional encoder will be used.\n",
    "MAX_ENCODER_LEN,\n",
    "MAX_DECODER_LEN,\n",
    "EOS_TOKEN,\n",
    "decoder_num_layers=2, #for our seq2seq model the decoder_num_layers must always be equal to 2.\n",
    "dropout_rate=0.3,\n",
    "embedding_weights=embedding_matrix #if embedding matrix is None the weights for the embedding layer are initialized randomly.\n",
    ")\n",
    "#this function creates the model, optimizer and the loss function in train mode."
   ]
  },
  {
   "cell_type": "code",
   "execution_count": null,
   "metadata": {},
   "outputs": [],
   "source": [
    "model, optimizer, loss_function, epochs_num = sm.start_training(\n",
    "model, #the model obtained from sm.instantiate_model().\n",
    "attention, #resposible for attention computation.\n",
    "optimizer, #the optimizer obtained from sm.instantiate_model().\n",
    "loss_function, #the loss function obtained from sm.instantiate_model().\n",
    "0, #the number of previous epochs, in case you are loading the model from checkpoint.\n",
    "train_set, #the train set from the dataset.\n",
    "validation_set, #the validation set from the dataset.\n",
    "1, #the number of total epochs needed to finish the training.\n",
    "metrics, #the metrics to be logged obtained from sm.instantiate metrics.\n",
    "LOG_EVERY, #the metrics are logged every LOG_EVERY tarining iterations.\n",
    "VALIDATION_LOG_EVERY #the model is validated after every epoch, during validation the metrics are logged every VALIDATION_LOG_EVERY iterations.\n",
    ")\n",
    "#training_started.\n",
    "#to load a model from a checkpoint use utils.load(checkpoint_path)."
   ]
  }
 ],
 "metadata": {
  "kernelspec": {
   "display_name": "Python 3",
   "language": "python",
   "name": "python3"
  },
  "language_info": {
   "codemirror_mode": {
    "name": "ipython",
    "version": 3
   },
   "file_extension": ".py",
   "mimetype": "text/x-python",
   "name": "python",
   "nbconvert_exporter": "python",
   "pygments_lexer": "ipython3",
   "version": "3.7.6"
  }
 },
 "nbformat": 4,
 "nbformat_minor": 4
}
